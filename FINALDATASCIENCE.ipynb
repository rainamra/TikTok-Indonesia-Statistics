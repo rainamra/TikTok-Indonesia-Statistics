{
  "nbformat": 4,
  "nbformat_minor": 0,
  "metadata": {
    "colab": {
      "name": "FINALDATASCIENCE.ipynb",
      "provenance": [],
      "collapsed_sections": [],
      "include_colab_link": true
    },
    "kernelspec": {
      "name": "python3",
      "display_name": "Python 3"
    },
    "language_info": {
      "name": "python"
    }
  },
  "cells": [
    {
      "cell_type": "markdown",
      "metadata": {
        "id": "view-in-github",
        "colab_type": "text"
      },
      "source": [
        "<a href=\"https://colab.research.google.com/github/rainamra/TikTok-Indonesia-Statistics/blob/main/FINALDATASCIENCE.ipynb\" target=\"_parent\"><img src=\"https://colab.research.google.com/assets/colab-badge.svg\" alt=\"Open In Colab\"/></a>"
      ]
    },
    {
      "cell_type": "code",
      "source": [
        "from google.colab import drive\n",
        "drive.mount('/content/drive')"
      ],
      "metadata": {
        "colab": {
          "base_uri": "https://localhost:8080/"
        },
        "id": "gIH6pkWuzPR3",
        "outputId": "b620a1aa-7560-4ea7-89fb-91da52cf21c9"
      },
      "execution_count": null,
      "outputs": [
        {
          "output_type": "stream",
          "name": "stdout",
          "text": [
            "Mounted at /content/drive\n"
          ]
        }
      ]
    },
    {
      "cell_type": "code",
      "source": [
        "import pandas as pd\n",
        "import os\n",
        "import glob\n",
        "from sklearn import preprocessing"
      ],
      "metadata": {
        "id": "g8L0J8QhyT58"
      },
      "execution_count": null,
      "outputs": []
    },
    {
      "cell_type": "code",
      "source": [
        "os.chdir(\"/content/drive/MyDrive/RESULTS_SCRAPING/RAW DATASET/TECH\")\n",
        "\n",
        "file_extension_profile = 'profile.csv'\n",
        "file_extension_videos = 'videos.csv'\n",
        "\n",
        "# LIST PROFILE AND VIDEOS FILES INSIDE TECH DIRECTORY\n",
        "all_filenames_profile = [i for i in glob.glob(f\"*{file_extension_profile}\")]\n",
        "all_filenames_videos = [i for i in glob.glob(f\"*{file_extension_videos}\")]\n",
        "print(f\"These are all of the filenames ending in profile.csv {all_filenames_profile}.\")\n",
        "print(f\"These are all of the filenames ending in videos.csv {all_filenames_videos}.\")\n",
        "\n",
        "all_filenames_profile[0]\n",
        "all_filenames_videos[0]\n",
        "\n",
        "# COMBINE ALL VIDEOS FILES IN TECH DIRECTORY\n",
        "combined_csv_videos = pd.concat([pd.read_csv(f) for f in all_filenames_videos])\n",
        "# COMBINE ALL PROFILE FILES IN TECH DIRECTORY\n",
        "combined_csv_profile = pd.concat([pd.read_csv(f) for f in all_filenames_profile])\n",
        "\n",
        "\n",
        "# JOIN PROFILE.CSV AND VIDEOS.CSV BY USERNAME IN TECH CATEGORY\n",
        "all_combined = combined_csv_profile.merge(combined_csv_videos,left_on=\"user_name\", right_on=\"user_name\")\n",
        "\n",
        "os.chdir(\"/content/drive/MyDrive/RESULTS_SCRAPING/COMBINED DATASETS\")\n",
        "all_combined.to_csv('tech_complete_dataset.csv')"
      ],
      "metadata": {
        "id": "LiQ4HelvzFlB",
        "colab": {
          "base_uri": "https://localhost:8080/"
        },
        "outputId": "a6099de2-f776-4485-88ee-db1deda49f0c"
      },
      "execution_count": null,
      "outputs": [
        {
          "output_type": "stream",
          "name": "stdout",
          "text": [
            "These are all of the filenames ending in profile.csv ['joerdy.s_profile.csv', 'ekaceluller_profile.csv', 'kelvinkurniawan07_profile.csv', 'jktinterior_profile.csv', 'yuliusfrendy0_profile.csv', 'tech_combined_profile.csv'].\n",
            "These are all of the filenames ending in videos.csv ['kelvinkurniawan07_videos.csv', 'joerdy.s_videos.csv', 'ekaceluller_videos.csv', 'jktinterior_videos.csv', 'yuliusfrendy0_videos.csv', 'tech_combined_videos.csv'].\n"
          ]
        }
      ]
    },
    {
      "cell_type": "code",
      "source": [
        "os.chdir(\"/content/drive/MyDrive/RESULTS_SCRAPING/RAW DATASET/BEAUTY\")\n",
        "\n",
        "file_extension_profile = 'profile.csv'\n",
        "file_extension_videos = 'videos.csv'\n",
        "\n",
        "# LIST PROFILE AND VIDEOS FILES INSIDE BEAUTY DIRECTORY\n",
        "all_filenames_profile = [i for i in glob.glob(f\"*{file_extension_profile}\")]\n",
        "all_filenames_videos = [i for i in glob.glob(f\"*{file_extension_videos}\")]\n",
        "print(f\"These are all of the filenames ending in profile.csv {all_filenames_profile}.\")\n",
        "print(f\"These are all of the filenames ending in videos.csv {all_filenames_videos}.\")\n",
        "\n",
        "all_filenames_profile[0]\n",
        "all_filenames_videos[0]\n",
        "\n",
        "# COMBINE ALL VIDEOS FILES IN BEAUTY DIRECTORY\n",
        "combined_csv_videos = pd.concat([pd.read_csv(f) for f in all_filenames_videos])\n",
        "# COMBINE ALL PROFILE FILES IN BEAUTY DIRECTORY\n",
        "combined_csv_profile = pd.concat([pd.read_csv(f) for f in all_filenames_profile])\n",
        "\n",
        "# JOIN PROFILE.CSV AND VIDEOS.CSV BY USERNAME IN BEAUTY CATEGORY\n",
        "all_combined = combined_csv_profile.merge(combined_csv_videos,left_on=\"user_name\", right_on=\"user_name\")\n",
        "\n",
        "os.chdir(\"/content/drive/MyDrive/RESULTS_SCRAPING/COMBINED DATASETS\")\n",
        "all_combined.to_csv('beauty_complete_dataset.csv')"
      ],
      "metadata": {
        "id": "amNY33gZ6xFr"
      },
      "execution_count": null,
      "outputs": []
    },
    {
      "cell_type": "code",
      "source": [
        "os.chdir(\"/content/drive/MyDrive/RESULTS_SCRAPING/RAW DATASET/FOOD\")\n",
        "\n",
        "file_extension_profile = 'profile.csv'\n",
        "file_extension_videos = 'videos.csv'\n",
        "\n",
        "# LIST PROFILE AND VIDEOS FILES INSIDE FOOD DIRECTORY\n",
        "all_filenames_profile = [i for i in glob.glob(f\"*{file_extension_profile}\")]\n",
        "all_filenames_videos = [i for i in glob.glob(f\"*{file_extension_videos}\")]\n",
        "print(f\"These are all of the filenames ending in profile.csv {all_filenames_profile}.\")\n",
        "print(f\"These are all of the filenames ending in videos.csv {all_filenames_videos}.\")\n",
        "\n",
        "all_filenames_profile[0]\n",
        "all_filenames_videos[0]\n",
        "\n",
        "# COMBINE ALL VIDEOS FILES IN FOOD DIRECTORY\n",
        "combined_csv_videos = pd.concat([pd.read_csv(f) for f in all_filenames_videos])\n",
        "# COMBINE ALL PROFILE FILES IN FOOD DIRECTORY\n",
        "combined_csv_profile = pd.concat([pd.read_csv(f) for f in all_filenames_profile])\n",
        "\n",
        "# JOIN PROFILE.CSV AND VIDEOS.CSV BY USERNAME IN FOOD CATEGORY\n",
        "all_combined = combined_csv_profile.merge(combined_csv_videos,left_on=\"user_name\", right_on=\"user_name\")\n",
        "\n",
        "os.chdir(\"/content/drive/MyDrive/RESULTS_SCRAPING/COMBINED DATASETS\")\n",
        "all_combined.to_csv('food_complete_dataset.csv')"
      ],
      "metadata": {
        "id": "BUTDOks3640E"
      },
      "execution_count": null,
      "outputs": []
    },
    {
      "cell_type": "code",
      "source": [
        "os.chdir(\"/content/drive/MyDrive/RESULTS_SCRAPING/RAW DATASET/FASHION\")\n",
        "\n",
        "file_extension_profile = 'profile.csv'\n",
        "file_extension_videos = 'videos.csv'\n",
        "\n",
        "# LIST PROFILE AND VIDEOS FILES INSIDE FASHION DIRECTORY\n",
        "all_filenames_profile = [i for i in glob.glob(f\"*{file_extension_profile}\")]\n",
        "all_filenames_videos = [i for i in glob.glob(f\"*{file_extension_videos}\")]\n",
        "print(f\"These are all of the filenames ending in profile.csv {all_filenames_profile}.\")\n",
        "print(f\"These are all of the filenames ending in videos.csv {all_filenames_videos}.\")\n",
        "\n",
        "all_filenames_profile[0]\n",
        "all_filenames_videos[0]\n",
        "\n",
        "# COMBINE ALL VIDEOS FILES IN FASHION DIRECTORY\n",
        "combined_csv_videos = pd.concat([pd.read_csv(f) for f in all_filenames_videos])\n",
        "# COMBINE ALL PROFILE FILES IN FASHION DIRECTORY\n",
        "combined_csv_profile = pd.concat([pd.read_csv(f) for f in all_filenames_profile])\n",
        "\n",
        "# JOIN PROFILE.CSV AND VIDEOS.CSV BY USERNAME IN FASHION CATEGORY\n",
        "all_combined = combined_csv_profile.merge(combined_csv_videos,left_on=\"user_name\", right_on=\"user_name\")\n",
        "\n",
        "os.chdir(\"/content/drive/MyDrive/RESULTS_SCRAPING/COMBINED DATASETS\")\n",
        "all_combined.to_csv('fashion_complete_dataset.csv')"
      ],
      "metadata": {
        "id": "jPbeSJ1F698Q"
      },
      "execution_count": null,
      "outputs": []
    },
    {
      "cell_type": "code",
      "source": [
        "os.chdir(\"/content/drive/MyDrive/RESULTS_SCRAPING/RAW DATASET/TRAVEL\")\n",
        "\n",
        "file_extension_profile = 'profile.csv'\n",
        "file_extension_videos = 'videos.csv'\n",
        "\n",
        "# LIST PROFILE AND VIDEOS FILES INSIDE TRAVEL DIRECTORY\n",
        "all_filenames_profile = [i for i in glob.glob(f\"*{file_extension_profile}\")]\n",
        "all_filenames_videos = [i for i in glob.glob(f\"*{file_extension_videos}\")]\n",
        "print(f\"These are all of the filenames ending in profile.csv {all_filenames_profile}.\")\n",
        "print(f\"These are all of the filenames ending in videos.csv {all_filenames_videos}.\")\n",
        "\n",
        "all_filenames_profile[0]\n",
        "all_filenames_videos[0]\n",
        "\n",
        "# COMBINE ALL VIDEOS FILES IN TRAVEL DIRECTORY\n",
        "combined_csv_videos = pd.concat([pd.read_csv(f) for f in all_filenames_videos])\n",
        "# COMBINE ALL PROFILE FILES IN TRAVEL DIRECTORY\n",
        "combined_csv_profile = pd.concat([pd.read_csv(f) for f in all_filenames_profile])\n",
        "\n",
        "# JOIN PROFILE.CSV AND VIDEOS.CSV BY USERNAME IN TRAVEL CATEGORY\n",
        "all_combined = combined_csv_profile.merge(combined_csv_videos,left_on=\"user_name\", right_on=\"user_name\")\n",
        "\n",
        "os.chdir(\"/content/drive/MyDrive/RESULTS_SCRAPING/COMBINED DATASETS\")\n",
        "all_combined.to_csv('travel_complete_dataset.csv')"
      ],
      "metadata": {
        "id": "CPfVklTw7TOS"
      },
      "execution_count": null,
      "outputs": []
    },
    {
      "cell_type": "code",
      "source": [
        "os.chdir(\"/content/drive/MyDrive/RESULTS_SCRAPING/RAW DATASET/FITNESS\")\n",
        "\n",
        "file_extension_profile = 'profile.csv'\n",
        "file_extension_videos = 'videos.csv'\n",
        "\n",
        "# LIST PROFILE AND VIDEOS FILES INSIDE FITNESS DIRECTORY\n",
        "all_filenames_profile = [i for i in glob.glob(f\"*{file_extension_profile}\")]\n",
        "all_filenames_videos = [i for i in glob.glob(f\"*{file_extension_videos}\")]\n",
        "print(f\"These are all of the filenames ending in profile.csv {all_filenames_profile}.\")\n",
        "print(f\"These are all of the filenames ending in videos.csv {all_filenames_videos}.\")\n",
        "\n",
        "all_filenames_profile[0]\n",
        "all_filenames_videos[0]\n",
        "\n",
        "# COMBINE ALL VIDEOS FILES IN FITNESS DIRECTORY\n",
        "combined_csv_videos = pd.concat([pd.read_csv(f) for f in all_filenames_videos])\n",
        "# COMBINE ALL PROFILE FILES IN FITNESS DIRECTORY\n",
        "combined_csv_profile = pd.concat([pd.read_csv(f) for f in all_filenames_profile])\n",
        "\n",
        "# JOIN PROFILE.CSV AND VIDEOS.CSV BY USERNAME IN FITNESS CATEGORY\n",
        "all_combined = combined_csv_profile.merge(combined_csv_videos,left_on=\"user_name\", right_on=\"user_name\")\n",
        "\n",
        "os.chdir(\"/content/drive/MyDrive/RESULTS_SCRAPING/COMBINED DATASETS\")\n",
        "all_combined.to_csv('fitness_complete_dataset.csv')"
      ],
      "metadata": {
        "id": "DXsSsBHY7bfh"
      },
      "execution_count": null,
      "outputs": []
    },
    {
      "cell_type": "code",
      "source": [
        "os.chdir(\"/content/drive/MyDrive/RESULTS_SCRAPING/RAW DATASET/COMEDY\")\n",
        "\n",
        "file_extension_profile = 'profile.csv'\n",
        "file_extension_videos = 'videos.csv'\n",
        "\n",
        "# LIST PROFILE AND VIDEOS FILES INSIDE COMEDY DIRECTORY\n",
        "all_filenames_profile = [i for i in glob.glob(f\"*{file_extension_profile}\")]\n",
        "all_filenames_videos = [i for i in glob.glob(f\"*{file_extension_videos}\")]\n",
        "print(f\"These are all of the filenames ending in profile.csv {all_filenames_profile}.\")\n",
        "print(f\"These are all of the filenames ending in videos.csv {all_filenames_videos}.\")\n",
        "\n",
        "all_filenames_profile[0]\n",
        "all_filenames_videos[0]\n",
        "\n",
        "# COMBINE ALL VIDEOS FILES IN COMEDY DIRECTORY\n",
        "combined_csv_videos = pd.concat([pd.read_csv(f) for f in all_filenames_videos])\n",
        "# COMBINE ALL PROFILE FILES IN COMEDY DIRECTORY\n",
        "combined_csv_profile = pd.concat([pd.read_csv(f) for f in all_filenames_profile])\n",
        "\n",
        "# JOIN PROFILE.CSV AND VIDEOS.CSV BY USERNAME IN COMEDY CATEGORY\n",
        "all_combined = combined_csv_profile.merge(combined_csv_videos,left_on=\"user_name\", right_on=\"user_name\")\n",
        "\n",
        "os.chdir(\"/content/drive/MyDrive/RESULTS_SCRAPING/COMBINED DATASETS\")\n",
        "all_combined.to_csv('comedy_complete_dataset.csv')"
      ],
      "metadata": {
        "id": "o3CfpLad7js7"
      },
      "execution_count": null,
      "outputs": []
    },
    {
      "cell_type": "code",
      "source": [
        "os.chdir(\"/content/drive/MyDrive/RESULTS_SCRAPING/COMBINED DATASETS\")\n",
        "\n",
        "all_filenames = glob.glob(\"*.csv\")\n",
        "print(f\"These are all of the filenames ending in videos.csv {all_filenames}.\")\n",
        "\n",
        "#COMBINE ALL DATAS INTO ONE FILE AND THEN MAKE THE CATEGORY.\n",
        "appended_data = []\n",
        "for i in range(6):\n",
        "    df_file = pd.read_csv(all_filenames[i])\n",
        "    df_file['category'] = i+1\n",
        "\n",
        "    if ('#' in df_file['video_desc'].values):\n",
        "        df_file['hastag_exists'] = 'Yes'\n",
        "    else:\n",
        "        df_file['hastag_exists'] = 'No'\n",
        "    appended_data.append(df_file)\n",
        "\n",
        "  df[df['name'].str.contains('General')]\n",
        "\n",
        "    # if ('#' in df_file['video_desc'].values):\n",
        "    #     df_file['hastag_exists'] = 'Yes'\n",
        "    # else:\n",
        "    #     df_file['hastag_exists'] = 'No'\n",
        "    # appended_data.append(df_file)\n",
        "appended_data = pd.concat(appended_data, ignore_index=True)\n",
        "os.chdir(\"/content/drive/MyDrive/RESULTS_SCRAPING/COMBINED DATASETS\")\n",
        "appended_data.to_csv(\"combined_all_category.csv\", index=False)"
      ],
      "metadata": {
        "id": "QQQ08diZzKgx",
        "colab": {
          "base_uri": "https://localhost:8080/"
        },
        "outputId": "08508e86-61dd-4f4a-fa5c-4bb5e40847f9"
      },
      "execution_count": null,
      "outputs": [
        {
          "output_type": "stream",
          "name": "stdout",
          "text": [
            "These are all of the filenames ending in videos.csv ['tech_complete_dataset.csv', 'comedy_complete_dataset.csv', 'beauty_complete_dataset.csv', 'food_complete_dataset.csv', 'travel_complete_dataset.csv', 'fitness_complete_dataset.csv', 'fashion_complete_dataset.csv'].\n"
          ]
        }
      ]
    },
    {
      "cell_type": "code",
      "source": [
        "\n",
        "combined_profile = pd.read_csv(\"/content/drive/MyDrive/RESULTS_SCRAPING/COMBINED DATASETS/combined_all_category.csv\")\n",
        "\n",
        "\n",
        "#drop the columns for index \n",
        "combined_profile.drop(['video_time','video_link', \"Unnamed: 0\", \"Unnamed: 0_x\", \"Unnamed: 0_y\", \"user_bio\", \"user_total_hearts\", \"user_id\", \"video_id\", \"music_id\"], axis =1, inplace=True)\n",
        "\n",
        "#INSERT THE NULL VALUES\n",
        "combined_profile['video_desc'].fillna(\"no description\", inplace = True)\n",
        "combined_profile['music_title'].fillna(\"no music\", inplace = True)\n",
        "combined_profile['music_author'].fillna(\"no music\", inplace = True)\n",
        "\n",
        "\n",
        "#ENCODING THE USERNAME\n",
        "label_encoder = preprocessing.LabelEncoder()\n",
        "combined_profile['username_encoded'] = label_encoder.fit_transform(combined_profile['user_name'])\n",
        "\n",
        "#CHANGE THE INDEX OF THE COLUMNS\n",
        "new_column = [\"user_name\", \"username_encoded\", \"user_total_followers\", \"user_total_videos\",\"video_desc\",\"video_length\",\"music_title\", \"music_author\", \"n_likes\", \"n_shares\", \"n_comments\", \"n_plays\", \"Category\", \"hastag_exists\"]\n",
        "combined_profile = combined_profile.reindex(columns=new_column)\n",
        "\n",
        "combined_profile.info()\n",
        "combined_profile.to_csv(\"final_dataset.csv\", index=False)"
      ],
      "metadata": {
        "id": "FCBmOpXrzxRT",
        "colab": {
          "base_uri": "https://localhost:8080/"
        },
        "outputId": "9fa7745b-2acf-4fc2-bf7c-e75efa0d32e9"
      },
      "execution_count": null,
      "outputs": [
        {
          "output_type": "stream",
          "name": "stdout",
          "text": [
            "<class 'pandas.core.frame.DataFrame'>\n",
            "RangeIndex: 6000 entries, 0 to 5999\n",
            "Data columns (total 14 columns):\n",
            " #   Column                Non-Null Count  Dtype \n",
            "---  ------                --------------  ----- \n",
            " 0   user_name             6000 non-null   object\n",
            " 1   username_encoded      6000 non-null   int64 \n",
            " 2   user_total_followers  6000 non-null   int64 \n",
            " 3   user_total_videos     6000 non-null   int64 \n",
            " 4   video_desc            6000 non-null   object\n",
            " 5   video_length          6000 non-null   int64 \n",
            " 6   music_title           6000 non-null   object\n",
            " 7   music_author          6000 non-null   object\n",
            " 8   n_likes               6000 non-null   int64 \n",
            " 9   n_shares              6000 non-null   int64 \n",
            " 10  n_comments            6000 non-null   int64 \n",
            " 11  n_plays               6000 non-null   int64 \n",
            " 12  Category              6000 non-null   int64 \n",
            " 13  hastag_exists         6000 non-null   object\n",
            "dtypes: int64(9), object(5)\n",
            "memory usage: 656.4+ KB\n"
          ]
        }
      ]
    }
  ]
}